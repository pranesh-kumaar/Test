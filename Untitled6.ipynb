{
 "cells": [
  {
   "cell_type": "code",
   "execution_count": 435,
   "id": "85dad332-962d-4532-b3a8-f4ef51c3c236",
   "metadata": {},
   "outputs": [
    {
     "name": "stdout",
     "output_type": "stream",
     "text": [
      "{'cik': '1640802', 'entityType': 'other', 'sic': '', 'sicDescription': '', 'ownerOrg': None, 'insiderTransactionForOwnerExists': 0, 'insiderTransactionForIssuerExists': 0, 'name': 'Accountable Health, Inc.', 'tickers': [], 'exchanges': [], 'ein': '461448124', 'description': '', 'website': '', 'investorWebsite': '', 'category': '', 'fiscalYearEnd': None, 'stateOfIncorporation': '', 'stateOfIncorporationDescription': '', 'addresses': {'mailing': {'street1': '1101 WOOTTON PARKWAY, 10TH FL', 'street2': 'ATTN: SALLY KARTON', 'city': 'ROCKVILLE', 'stateOrCountry': 'MD', 'zipCode': '20852', 'stateOrCountryDescription': 'MD'}, 'business': {'street1': '1101 WOOTTON PARKWAY, 10TH FL', 'street2': 'ATTN: SALLY KARTON', 'city': 'ROCKVILLE', 'stateOrCountry': 'MD', 'zipCode': '20852', 'stateOrCountryDescription': 'MD'}}, 'phone': '3016051688', 'flags': '', 'formerNames': [], 'filings': {'recent': {'accessionNumber': ['0001193125-16-449406', '0001193125-15-154643'], 'filingDate': ['2016-02-03', '2015-04-29'], 'reportDate': ['', ''], 'acceptanceDateTime': ['2016-02-03T17:05:36.000Z', '2015-04-29T08:50:33.000Z'], 'act': ['', ''], 'form': ['SC 13G', 'SC 13G'], 'fileNumber': ['', ''], 'filmNumber': ['', ''], 'items': ['', ''], 'core_type': ['SC 13G', 'SC 13G'], 'size': [41673, 41132], 'isXBRL': [0, 0], 'isInlineXBRL': [0, 0], 'primaryDocument': ['d115860dsc13g.htm', 'd916335dsc13g.htm'], 'primaryDocDescription': ['SCHEDULE 13G', 'SCHEDULE 13G']}, 'files': []}}\n"
     ]
    }
   ],
   "source": [
    "# cik = 'CIK0001973419'\n",
    "base_url = f'https://data.sec.gov/submissions/{cik}.json'\n",
    "response = requests.get(base_url, headers={'User-Agent': 'Mozilla/5.0'})\n",
    "data = response.json()\n",
    "print(data)"
   ]
  },
  {
   "cell_type": "code",
   "execution_count": 509,
   "id": "6202c648-86af-4e7e-8c42-263608026686",
   "metadata": {},
   "outputs": [
    {
     "name": "stdout",
     "output_type": "stream",
     "text": [
      "1\n",
      "1\n"
     ]
    }
   ],
   "source": [
    "link_string = cik[-7:]\n",
    "print (len(data['filings']['recent']['accessionNumber']))\n",
    "print (len(data['filings']['recent']['primaryDocument']))\n",
    "links = []\n",
    "for x in range(len(data['filings']['recent']['accessionNumber'])) :\n",
    "    accession_number = data['filings']['recent']['accessionNumber'][x].replace('-','')\n",
    "    document_id = data['filings']['recent']['primaryDocument'][x]\n",
    "    link = f'https://www.sec.gov/Archives/edgar/data/{link_string}/{accession_number}/{document_id}' #0000019617\n",
    "    links.append(link)"
   ]
  },
  {
   "cell_type": "code",
   "execution_count": 511,
   "id": "5d5485c9-1d74-4de2-8fcc-cbcc6954bfe0",
   "metadata": {},
   "outputs": [
    {
     "name": "stdout",
     "output_type": "stream",
     "text": [
      "https://www.sec.gov/Archives/edgar/data/1727076/000172707618000001/xslFormDX01/primary_doc.xml\n"
     ]
    }
   ],
   "source": [
    "for x in links:\n",
    "    print (x)"
   ]
  },
  {
   "cell_type": "code",
   "execution_count": 513,
   "id": "90628395-971f-4466-bbcd-3bcf6392b4dc",
   "metadata": {},
   "outputs": [
    {
     "name": "stdout",
     "output_type": "stream",
     "text": [
      "Total Form D filings: 1\n"
     ]
    }
   ],
   "source": [
    "from collections import Counter\n",
    "\n",
    "# Loop through all filings and check if they are Form 4 filings\n",
    "forms = []\n",
    "for x in range(len(data['filings']['recent']['accessionNumber'])):\n",
    "    forms.append(data['filings']['recent']['form'][x])\n",
    "\n",
    "item_counts = Counter(forms)\n",
    "\n",
    "# Print the counts\n",
    "for item, count in item_counts.items():\n",
    "    print(f\"Total Form {item} filings: {count}\")"
   ]
  },
  {
   "cell_type": "code",
   "execution_count": 515,
   "id": "65f93b12-d5a3-43e4-9afc-fd8510ab1d7a",
   "metadata": {},
   "outputs": [
    {
     "name": "stdout",
     "output_type": "stream",
     "text": [
      "Total Form 4 filings: 0\n"
     ]
    }
   ],
   "source": [
    "# Assuming 'data' is the JSON object containing all filings data\n",
    "\n",
    "# Initialize an empty list to store Form 4 links and the filer's name\n",
    "form4_links = []\n",
    "\n",
    "# Loop through all filings and check if they are Form 4 filings\n",
    "for x in range(len(data['filings']['recent']['accessionNumber'])):\n",
    "    # Check if the filing is a Form 4\n",
    "    if data['filings']['recent']['form'][x] == '4':  # Check if the form is '4'\n",
    "        accession_number = data['filings']['recent']['accessionNumber'][x].replace('-', '')\n",
    "        document_id = data['filings']['recent']['primaryDocument'][x]\n",
    "        link = f'https://www.sec.gov/Archives/edgar/data/{cik}/{accession_number}/{document_id}'\n",
    "\n",
    "        # Add the Form 4 link to the list\n",
    "        form4_links.append(link)\n",
    "\n",
    "# Print the total number of Form 4 filings found\n",
    "print(f\"Total Form 4 filings: {len(form4_links)}\")"
   ]
  },
  {
   "cell_type": "code",
   "execution_count": 1,
   "id": "57aff1c7-70f2-4bfe-80d9-df62fab0bf9f",
   "metadata": {},
   "outputs": [
    {
     "name": "stdout",
     "output_type": "stream",
     "text": [
      "Processed 7769/7769 CIKs: CIK0001428193\n",
      "Data saved to cik_data.txt.\n"
     ]
    }
   ],
   "source": [
    "import requests\n",
    "import json\n",
    "import pandas as pd\n",
    "from IPython.display import clear_output, display\n",
    "\n",
    "def fetch_cik_data(cik):\n",
    "    base_url = f'https://data.sec.gov/submissions/{cik}.json'\n",
    "    headers = {'User-Agent': 'Mozilla/5.0'}\n",
    "    \n",
    "    try:\n",
    "        response = requests.get(base_url, headers=headers)\n",
    "        response.raise_for_status()  # Raise an error for bad responses (4xx or 5xx)\n",
    "        \n",
    "        data = response.json()  # Parse the JSON data\n",
    "        return data\n",
    "    \n",
    "    except requests.exceptions.HTTPError as http_err:\n",
    "        print(f\"HTTP error occurred for {cik}: {http_err}\")\n",
    "        return None\n",
    "    except Exception as err:\n",
    "        print(f\"An error occurred for {cik}: {err}\")\n",
    "        return None\n",
    "\n",
    "def save_jsons_to_single_text(ciks, filename):\n",
    "    total_ciks = len(ciks)  # Get the total number of CIKs\n",
    "    with open(filename, 'w') as text_file:\n",
    "        for index, cik in enumerate(ciks):\n",
    "            data = fetch_cik_data(cik)\n",
    "            if data is not None:\n",
    "                # Convert JSON data to a string\n",
    "                json_string = json.dumps(data, indent=4)  # Pretty-print the JSON\n",
    "                text_file.write(f\"{json_string}\\n\\n\")  # Write JSON and add a newline for separation\n",
    "                \n",
    "                # Clear the output and print progress\n",
    "                clear_output(wait=True)\n",
    "                print(f\"Processed {index + 1}/{total_ciks} CIKs: {cik}\")\n",
    "\n",
    "# Example CIKs based on your data\n",
    "maryland_companies_data = pd.read_excel(r\"C:\\Users\\ADMIN\\Downloads\\Maryland Companies VB.xlsm\")\n",
    "ciks = maryland_companies_data['Full CIK'].values.tolist()\n",
    "\n",
    "# Save all data to a single text file\n",
    "save_jsons_to_single_text(ciks, 'cik_data.txt')\n",
    "print('Data saved to cik_data.txt.')"
   ]
  },
  {
   "cell_type": "code",
   "execution_count": 507,
   "id": "b191e42c-465e-43f0-99dc-65bf75bbcd76",
   "metadata": {},
   "outputs": [
    {
     "name": "stdout",
     "output_type": "stream",
     "text": [
      "Data for CIK 1727076:\n",
      "{\n",
      "    \"cik\": \"1727076\",\n",
      "    \"entityType\": \"other\",\n",
      "    \"sic\": \"\",\n",
      "    \"sicDescription\": \"\",\n",
      "    \"ownerOrg\": null,\n",
      "    \"insiderTransactionForOwnerExists\": 0,\n",
      "    \"insiderTransactionForIssuerExists\": 0,\n",
      "    \"name\": \"125 S. Wacker Street REIT\",\n",
      "    \"tickers\": [],\n",
      "    \"exchanges\": [],\n",
      "    \"ein\": \"000000000\",\n",
      "    \"description\": \"\",\n",
      "    \"website\": \"\",\n",
      "    \"investorWebsite\": \"\",\n",
      "    \"category\": \"\",\n",
      "    \"fiscalYearEnd\": \"1231\",\n",
      "    \"stateOfIncorporation\": \"MD\",\n",
      "    \"stateOfIncorporationDescription\": \"MD\",\n",
      "    \"addresses\": {\n",
      "        \"mailing\": {\n",
      "            \"street1\": \"C/O THE CORPORATION TRUST INCORPORATED\",\n",
      "            \"street2\": \"2405 YORK ROAD, SUITE 201\",\n",
      "            \"city\": \"LUTHERVILLE TIMONIUM\",\n",
      "            \"stateOrCountry\": \"MD\",\n",
      "            \"zipCode\": \"21093-2264\",\n",
      "            \"stateOrCountryDescription\": \"MD\"\n",
      "        },\n",
      "        \"business\": {\n",
      "            \"street1\": \"C/O THE CORPORATION TRUST INCORPORATED\",\n",
      "            \"street2\": \"2405 YORK ROAD, SUITE 201\",\n",
      "            \"city\": \"LUTHERVILLE TIMONIUM\",\n",
      "            \"stateOrCountry\": \"MD\",\n",
      "            \"zipCode\": \"21093-2264\",\n",
      "            \"stateOrCountryDescription\": \"MD\"\n",
      "        }\n",
      "    },\n",
      "    \"phone\": \"410-539-2837\",\n",
      "    \"flags\": \"\",\n",
      "    \"formerNames\": [],\n",
      "    \"filings\": {\n",
      "        \"recent\": {\n",
      "            \"accessionNumber\": [\n",
      "                \"0001727076-18-000001\"\n",
      "            ],\n",
      "            \"filingDate\": [\n",
      "                \"2018-01-08\"\n",
      "            ],\n",
      "            \"reportDate\": [\n",
      "                \"\"\n",
      "            ],\n",
      "            \"acceptanceDateTime\": [\n",
      "                \"2018-01-08T10:10:46.000Z\"\n",
      "            ],\n",
      "            \"act\": [\n",
      "                \"33\"\n",
      "            ],\n",
      "            \"form\": [\n",
      "                \"D\"\n",
      "            ],\n",
      "            \"fileNumber\": [\n",
      "                \"021-302601\"\n",
      "            ],\n",
      "            \"filmNumber\": [\n",
      "                \"18515199\"\n",
      "            ],\n",
      "            \"items\": [\n",
      "                \"06b\"\n",
      "            ],\n",
      "            \"core_type\": [\n",
      "                \"D\"\n",
      "            ],\n",
      "            \"size\": [\n",
      "                14285\n",
      "            ],\n",
      "            \"isXBRL\": [\n",
      "                0\n",
      "            ],\n",
      "            \"isInlineXBRL\": [\n",
      "                0\n",
      "            ],\n",
      "            \"primaryDocument\": [\n",
      "                \"xslFormDX01/primary_doc.xml\"\n",
      "            ],\n",
      "            \"primaryDocDescription\": [\n",
      "                \"\"\n",
      "            ]\n",
      "        },\n",
      "        \"files\": []\n",
      "    }\n",
      "}\n"
     ]
    }
   ],
   "source": [
    "import json\n",
    "\n",
    "def fetch_cik_from_file(filename, target_cik):\n",
    "    # Read the contents of the file\n",
    "    with open(filename, 'r') as file:\n",
    "        content = file.read()\n",
    "    \n",
    "    # Split the content into separate JSON objects\n",
    "    json_objects = content.strip().split('\\n\\n')  # Assuming each JSON is separated by two newlines\n",
    "    \n",
    "    # Iterate through the JSON objects and look for the target CIK\n",
    "    for json_str in json_objects:\n",
    "        try:\n",
    "            data = json.loads(json_str)  # Parse the JSON string\n",
    "            if data.get('cik') == target_cik:  # Check if the CIK matches\n",
    "                return data  # Return the matching JSON object\n",
    "        except json.JSONDecodeError:\n",
    "            print(\"Error decoding JSON\")\n",
    "\n",
    "    return None  # Return None if no matching CIK is found\n",
    "\n",
    "# Specify the filename and target CIK\n",
    "filename = 'cik_data.txt'\n",
    "cik = 'CIK0001727076'\n",
    "target_cik = cik[-7:] # Replace with the desired CIK\n",
    "\n",
    "# Fetch the JSON for the specified CIK\n",
    "data = fetch_cik_from_file(filename, target_cik)\n",
    "\n",
    "# Check and print the result\n",
    "if data:\n",
    "    print(f\"Data for CIK {target_cik}:\")\n",
    "    print(json.dumps(data, indent=4))  # Pretty-print the JSON data\n",
    "else:\n",
    "    print(f'No data found for CIK: {target_cik}')"
   ]
  },
  {
   "cell_type": "code",
   "execution_count": null,
   "id": "871952a2-8490-4b50-965a-bbdf07e3659b",
   "metadata": {},
   "outputs": [],
   "source": []
  }
 ],
 "metadata": {
  "kernelspec": {
   "display_name": "Python 3 (ipykernel)",
   "language": "python",
   "name": "python3"
  },
  "language_info": {
   "codemirror_mode": {
    "name": "ipython",
    "version": 3
   },
   "file_extension": ".py",
   "mimetype": "text/x-python",
   "name": "python",
   "nbconvert_exporter": "python",
   "pygments_lexer": "ipython3",
   "version": "3.9.18"
  }
 },
 "nbformat": 4,
 "nbformat_minor": 5
}
